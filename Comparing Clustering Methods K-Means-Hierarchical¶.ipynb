{
 "cells": [
  {
   "cell_type": "markdown",
   "metadata": {},
   "source": [
    "# Dependencies"
   ]
  },
  {
   "cell_type": "code",
   "execution_count": 2,
   "metadata": {},
   "outputs": [],
   "source": [
    "# Import the libraries\n",
    "import numpy as np\n",
    "import pandas as pd\n",
    "import matplotlib.pyplot as plt"
   ]
  },
  {
   "cell_type": "markdown",
   "metadata": {},
   "source": [
    "# Load the dataset"
   ]
  },
  {
   "cell_type": "code",
   "execution_count": 3,
   "metadata": {},
   "outputs": [],
   "source": [
    "df=pd.read_csv(\"musteriler.csv\")"
   ]
  },
  {
   "cell_type": "code",
   "execution_count": 7,
   "metadata": {},
   "outputs": [
    {
     "data": {
      "text/html": [
       "<div>\n",
       "<style scoped>\n",
       "    .dataframe tbody tr th:only-of-type {\n",
       "        vertical-align: middle;\n",
       "    }\n",
       "\n",
       "    .dataframe tbody tr th {\n",
       "        vertical-align: top;\n",
       "    }\n",
       "\n",
       "    .dataframe thead th {\n",
       "        text-align: right;\n",
       "    }\n",
       "</style>\n",
       "<table border=\"1\" class=\"dataframe\">\n",
       "  <thead>\n",
       "    <tr style=\"text-align: right;\">\n",
       "      <th></th>\n",
       "      <th>No</th>\n",
       "      <th>Cinsiyet</th>\n",
       "      <th>Yas</th>\n",
       "      <th>Hacim</th>\n",
       "      <th>Maas</th>\n",
       "    </tr>\n",
       "  </thead>\n",
       "  <tbody>\n",
       "    <tr>\n",
       "      <td>0</td>\n",
       "      <td>1</td>\n",
       "      <td>K</td>\n",
       "      <td>60</td>\n",
       "      <td>69900</td>\n",
       "      <td>6325</td>\n",
       "    </tr>\n",
       "    <tr>\n",
       "      <td>1</td>\n",
       "      <td>2</td>\n",
       "      <td>K</td>\n",
       "      <td>30</td>\n",
       "      <td>79000</td>\n",
       "      <td>5200</td>\n",
       "    </tr>\n",
       "    <tr>\n",
       "      <td>2</td>\n",
       "      <td>3</td>\n",
       "      <td>E</td>\n",
       "      <td>52</td>\n",
       "      <td>85500</td>\n",
       "      <td>7825</td>\n",
       "    </tr>\n",
       "    <tr>\n",
       "      <td>3</td>\n",
       "      <td>4</td>\n",
       "      <td>E</td>\n",
       "      <td>57</td>\n",
       "      <td>17100</td>\n",
       "      <td>8375</td>\n",
       "    </tr>\n",
       "    <tr>\n",
       "      <td>4</td>\n",
       "      <td>5</td>\n",
       "      <td>E</td>\n",
       "      <td>55</td>\n",
       "      <td>5500</td>\n",
       "      <td>5450</td>\n",
       "    </tr>\n",
       "  </tbody>\n",
       "</table>\n",
       "</div>"
      ],
      "text/plain": [
       "   No Cinsiyet  Yas  Hacim  Maas\n",
       "0   1        K   60  69900  6325\n",
       "1   2        K   30  79000  5200\n",
       "2   3        E   52  85500  7825\n",
       "3   4        E   57  17100  8375\n",
       "4   5        E   55   5500  5450"
      ]
     },
     "execution_count": 7,
     "metadata": {},
     "output_type": "execute_result"
    }
   ],
   "source": [
    "df.head(5)"
   ]
  },
  {
   "cell_type": "code",
   "execution_count": 5,
   "metadata": {},
   "outputs": [],
   "source": [
    " X= df.iloc[:,3:].values"
   ]
  },
  {
   "cell_type": "code",
   "execution_count": 8,
   "metadata": {},
   "outputs": [
    {
     "name": "stdout",
     "output_type": "stream",
     "text": [
      "[[ 69900   6325]\n",
      " [ 79000   5200]\n",
      " [ 85500   7825]\n",
      " [ 17100   8375]\n",
      " [  5500   5450]\n",
      " [ 27200   8550]\n",
      " [ 20500   4500]\n",
      " [ 69000   5050]\n",
      " [ 13200   8325]\n",
      " [ 31800   5975]\n",
      " [ 59200   5700]\n",
      " [ 95800   6475]\n",
      " [ 46200   3850]\n",
      " [ 29800   4100]\n",
      " [ 83000   8125]\n",
      " [143500   8650]\n",
      " [ 91300   5125]\n",
      " [  9800   3950]\n",
      " [ 79500   5325]\n",
      " [ 66400   5775]\n",
      " [ 25900   3400]\n",
      " [     0   7075]\n",
      " [ 90900   5725]\n",
      " [ 51800   4300]\n",
      " [126800   7500]\n",
      " [ 40800   5000]\n",
      " [ 26400   5325]\n",
      " [ 76100   5350]\n",
      " [ 26500   2600]\n",
      " [ 37200   6250]\n",
      " [  4000   3075]\n",
      " [ 34500   4875]\n",
      " [ 47100   5525]\n",
      " [ 95600   7225]\n",
      " [ 35400   5275]\n",
      " [ 41100   6050]\n",
      " [ 46400   3425]\n",
      " [ 10400   4600]\n",
      " [ 50100   4575]\n",
      " [111300   8525]\n",
      " [102700   8100]\n",
      " [ 23700   4725]\n",
      " [ 84300   7425]\n",
      " [ 14800   6200]\n",
      " [  6400   5875]\n",
      " [ 35900   4025]\n",
      " [ 41600   4150]\n",
      " [ 61000   5625]\n",
      " [ 52800   5300]\n",
      " [118500   6350]\n",
      " [ 21500   5800]\n",
      " [ 69200   6325]\n",
      " [105600   8800]\n",
      " [139000   8400]\n",
      " [ 76300   5650]\n",
      " [ 87600   6800]\n",
      " [ 21800   4725]\n",
      " [ 84100   5575]\n",
      " [ 35700   3675]\n",
      " [ 75400   5775]\n",
      " [125000   7550]\n",
      " [ 97100   6525]\n",
      " [ 45900   4525]\n",
      " [ 26600   7925]\n",
      " [ 54400   8800]\n",
      " [ 13600   4100]\n",
      " [ 58000   5175]\n",
      " [ 83700   6350]\n",
      " [ 32100   6575]\n",
      " [ 19000   4375]\n",
      " [ 85500   5875]\n",
      " [ 73600   9250]\n",
      " [ 99000   6650]\n",
      " [ 65700   7775]\n",
      " [ 23200   3575]\n",
      " [  3700   7650]\n",
      " [107200   7825]\n",
      " [ 73800   8525]\n",
      " [ 38400   5700]\n",
      " [ 26500   8575]\n",
      " [ 14400   3975]\n",
      " [ 16600   4075]\n",
      " [ 37900   4925]\n",
      " [ 51900   4175]\n",
      " [135500   7075]\n",
      " [ 70600   7450]\n",
      " [ 78600   8575]\n",
      " [ 34500   3825]\n",
      " [ 28500   4850]\n",
      " [ 27200   6600]\n",
      " [ 80400   8350]\n",
      " [ 15600   7950]\n",
      " [133700   7725]\n",
      " [ 55200   6800]\n",
      " [  6600   3425]\n",
      " [ 55700   7725]\n",
      " [ 29400   4400]\n",
      " [ 86100   9175]\n",
      " [  2000   5250]\n",
      " [  2900   2650]\n",
      " [ 38400   6950]\n",
      " [135600   9575]\n",
      " [ 78100   7625]\n",
      " [ 13600   2600]\n",
      " [ 14400   7775]\n",
      " [ 64200   9125]\n",
      " [ 83400   8675]\n",
      " [ 33600   4500]\n",
      " [ 61900   5925]\n",
      " [128500   6800]\n",
      " [116200   9250]\n",
      " [ 93000   5750]\n",
      " [ 66800  10075]\n",
      " [ 69400   5375]\n",
      " [ 98100   5725]\n",
      " [ 42000   3250]\n",
      " [  6600   8475]\n",
      " [ 97900   7925]\n",
      " [ 34700   2675]\n",
      " [ 56800   9800]\n",
      " [ 26400   5300]\n",
      " [ 53800   4550]\n",
      " [ 93600   6325]\n",
      " [ 76200   5900]\n",
      " [ 68000   5500]\n",
      " [ 45400   4550]\n",
      " [ 24900   2725]\n",
      " [ 17100   3425]\n",
      " [119700   8225]\n",
      " [     0   6150]\n",
      " [ 24300   3225]\n",
      " [ 48600   6425]\n",
      " [ 51600   3725]\n",
      " [ 59200   3500]\n",
      " [ 53500   4375]\n",
      " [     0   6325]\n",
      " [ 44800   5200]\n",
      " [ 49200   4475]\n",
      " [ 85900   4875]\n",
      " [ 52500   6375]\n",
      " [ 94000   6525]\n",
      " [  4400   3100]\n",
      " [ 38700   8325]\n",
      " [ 59400   5850]\n",
      " [ 75000   8250]\n",
      " [ 45800   5675]\n",
      " [ 31200   5600]\n",
      " [ 35300   4075]\n",
      " [ 38000   3475]\n",
      " [ 17100   6275]\n",
      " [ 32400   4025]\n",
      " [ 40400   4450]\n",
      " [ 70400   6400]\n",
      " [  2500   4575]\n",
      " [ 49200   7025]\n",
      " [115500   6450]\n",
      " [ 18800   2950]\n",
      " [ 41800   4350]\n",
      " [105700   6325]\n",
      " [ 17500   5550]\n",
      " [ 46400   4175]\n",
      " [ 31200   3800]\n",
      " [ 30500   8950]\n",
      " [ 37100   4525]\n",
      " [ 20700   4050]\n",
      " [ 37400   4775]\n",
      " [ 53600   4575]\n",
      " [ 95100   7425]\n",
      " [ 12400   8075]\n",
      " [ 28500   6525]\n",
      " [ 87500   4950]\n",
      " [ 29500   6500]\n",
      " [ 17300   6325]\n",
      " [ 39000   6875]\n",
      " [ 63500   5175]\n",
      " [ 27700   8925]\n",
      " [ 23300   7825]\n",
      " [ 53600   5350]\n",
      " [111800   8075]\n",
      " [ 55400   5675]\n",
      " [ 44700   4750]\n",
      " [ 72900   6200]\n",
      " [ 59700   6975]\n",
      " [124800   9525]\n",
      " [100700   6675]\n",
      " [136200   9275]\n",
      " [  4400   4750]\n",
      " [  3000   7975]\n",
      " [ 33300   6225]\n",
      " [ 20600   2800]\n",
      " [ 44700   5450]\n",
      " [ 10000   2875]\n",
      " [ 39200   5975]\n",
      " [ 75600   6175]\n",
      " [ 13200   5325]\n",
      " [ 96600   7900]\n",
      " [ 83700   7675]\n",
      " [ 34000   4000]\n",
      " [ 42000   5500]\n",
      " [ 47600   4150]]\n"
     ]
    }
   ],
   "source": [
    "print(X)"
   ]
  },
  {
   "cell_type": "code",
   "execution_count": 9,
   "metadata": {},
   "outputs": [
    {
     "name": "stdout",
     "output_type": "stream",
     "text": [
      "[ 69900  79000  85500  17100   5500  27200  20500  69000  13200  31800\n",
      "  59200  95800  46200  29800  83000 143500  91300   9800  79500  66400\n",
      "  25900      0  90900  51800 126800  40800  26400  76100  26500  37200\n",
      "   4000  34500  47100  95600  35400  41100  46400  10400  50100 111300\n",
      " 102700  23700  84300  14800   6400  35900  41600  61000  52800 118500\n",
      "  21500  69200 105600 139000  76300  87600  21800  84100  35700  75400\n",
      " 125000  97100  45900  26600  54400  13600  58000  83700  32100  19000\n",
      "  85500  73600  99000  65700  23200   3700 107200  73800  38400  26500\n",
      "  14400  16600  37900  51900 135500  70600  78600  34500  28500  27200\n",
      "  80400  15600 133700  55200   6600  55700  29400  86100   2000   2900\n",
      "  38400 135600  78100  13600  14400  64200  83400  33600  61900 128500\n",
      " 116200  93000  66800  69400  98100  42000   6600  97900  34700  56800\n",
      "  26400  53800  93600  76200  68000  45400  24900  17100 119700      0\n",
      "  24300  48600  51600  59200  53500      0  44800  49200  85900  52500\n",
      "  94000   4400  38700  59400  75000  45800  31200  35300  38000  17100\n",
      "  32400  40400  70400   2500  49200 115500  18800  41800 105700  17500\n",
      "  46400  31200  30500  37100  20700  37400  53600  95100  12400  28500\n",
      "  87500  29500  17300  39000  63500  27700  23300  53600 111800  55400\n",
      "  44700  72900  59700 124800 100700 136200   4400   3000  33300  20600\n",
      "  44700  10000  39200  75600  13200  96600  83700  34000  42000  47600]\n"
     ]
    }
   ],
   "source": [
    "x1 = X[:,0]\n",
    "print(x1)"
   ]
  },
  {
   "cell_type": "code",
   "execution_count": 10,
   "metadata": {},
   "outputs": [
    {
     "name": "stdout",
     "output_type": "stream",
     "text": [
      "[ 6325  5200  7825  8375  5450  8550  4500  5050  8325  5975  5700  6475\n",
      "  3850  4100  8125  8650  5125  3950  5325  5775  3400  7075  5725  4300\n",
      "  7500  5000  5325  5350  2600  6250  3075  4875  5525  7225  5275  6050\n",
      "  3425  4600  4575  8525  8100  4725  7425  6200  5875  4025  4150  5625\n",
      "  5300  6350  5800  6325  8800  8400  5650  6800  4725  5575  3675  5775\n",
      "  7550  6525  4525  7925  8800  4100  5175  6350  6575  4375  5875  9250\n",
      "  6650  7775  3575  7650  7825  8525  5700  8575  3975  4075  4925  4175\n",
      "  7075  7450  8575  3825  4850  6600  8350  7950  7725  6800  3425  7725\n",
      "  4400  9175  5250  2650  6950  9575  7625  2600  7775  9125  8675  4500\n",
      "  5925  6800  9250  5750 10075  5375  5725  3250  8475  7925  2675  9800\n",
      "  5300  4550  6325  5900  5500  4550  2725  3425  8225  6150  3225  6425\n",
      "  3725  3500  4375  6325  5200  4475  4875  6375  6525  3100  8325  5850\n",
      "  8250  5675  5600  4075  3475  6275  4025  4450  6400  4575  7025  6450\n",
      "  2950  4350  6325  5550  4175  3800  8950  4525  4050  4775  4575  7425\n",
      "  8075  6525  4950  6500  6325  6875  5175  8925  7825  5350  8075  5675\n",
      "  4750  6200  6975  9525  6675  9275  4750  7975  6225  2800  5450  2875\n",
      "  5975  6175  5325  7900  7675  4000  5500  4150]\n"
     ]
    }
   ],
   "source": [
    "y1=X[:,1]\n",
    "print(y1)"
   ]
  },
  {
   "cell_type": "code",
   "execution_count": 11,
   "metadata": {},
   "outputs": [
    {
     "data": {
      "image/png": "[encoded data removed]",
      "text/plain": [
       "<Figure size 432x288 with 1 Axes>"
      ]
     },
     "metadata": {
      "needs_background": "light"
     },
     "output_type": "display_data"
    }
   ],
   "source": [
    "plt.scatter(x1,y1)\n",
    "plt.show()"
   ]
  },
  {
   "cell_type": "markdown",
   "metadata": {},
   "source": [
    "# K-Means Clustering¶"
   ]
  },
  {
   "cell_type": "code",
   "execution_count": 14,
   "metadata": {},
   "outputs": [
    {
     "data": {
      "text/plain": [
       "[<matplotlib.lines.Line2D at 0x122d4608>]"
      ]
     },
     "execution_count": 14,
     "metadata": {},
     "output_type": "execute_result"
    },
    {
     "data": {
      "image/png": "[encoded data removed]",
      "text/plain": [
       "<Figure size 432x288 with 1 Axes>"
      ]
     },
     "metadata": {
      "needs_background": "light"
     },
     "output_type": "display_data"
    }
   ],
   "source": [
    "from sklearn.cluster import KMeans\n",
    "sonuclar = []\n",
    "for i in range(1,11):\n",
    "    kmeans=KMeans(n_clusters=i, init=\"k-means++\", random_state=123)\n",
    "    kmeans.fit(X)\n",
    "    sonuclar.append(kmeans.inertia_)\n",
    "plt.plot(range(1,11), sonuclar)"
   ]
  },
  {
   "cell_type": "code",
   "execution_count": 16,
   "metadata": {},
   "outputs": [
    {
     "name": "stdout",
     "output_type": "stream",
     "text": [
      "[[ 23539.13043478   5272.01086957]\n",
      " [ 63915.27777778   6140.625     ]\n",
      " [109905.55555556   7325.69444444]]\n"
     ]
    }
   ],
   "source": [
    "kmeans=KMeans(n_clusters=3, init=\"k-means++\")\n",
    "kmeans.fit(X)\n",
    "print(kmeans.cluster_centers_)"
   ]
  },
  {
   "cell_type": "code",
   "execution_count": 17,
   "metadata": {},
   "outputs": [],
   "source": [
    "clusters=kmeans.fit_predict(X)\n",
    "df[\"label\"]=clusters"
   ]
  },
  {
   "cell_type": "code",
   "execution_count": 19,
   "metadata": {},
   "outputs": [
    {
     "name": "stdout",
     "output_type": "stream",
     "text": [
      "[2 2 1 0 0 0 0 2 0 0 2 1 2 0 1 1 1 0 2 2 0 0 1 2 1 2 0 2 0 0 0 0 2 1 0 2 2\n",
      " 0 2 1 1 0 1 0 0 0 2 2 2 1 0 2 1 1 2 1 0 1 0 2 1 1 2 0 2 0 2 1 0 0 1 2 1 2\n",
      " 0 0 1 2 0 0 0 0 0 2 1 2 2 0 0 0 2 0 1 2 0 2 0 1 0 0 0 1 2 0 0 2 1 0 2 1 1\n",
      " 1 2 2 1 2 0 1 0 2 0 2 1 2 2 2 0 0 1 0 0 2 2 2 2 0 2 2 1 2 1 0 0 2 2 2 0 0\n",
      " 0 0 0 2 2 0 2 1 0 2 1 0 2 0 0 0 0 0 2 1 0 0 1 0 0 0 2 0 0 2 1 2 2 2 2 1 1\n",
      " 1 0 0 0 0 2 0 0 2 0 1 1 0 2 2]\n"
     ]
    },
    {
     "data": {
      "text/html": [
       "<div>\n",
       "<style scoped>\n",
       "    .dataframe tbody tr th:only-of-type {\n",
       "        vertical-align: middle;\n",
       "    }\n",
       "\n",
       "    .dataframe tbody tr th {\n",
       "        vertical-align: top;\n",
       "    }\n",
       "\n",
       "    .dataframe thead th {\n",
       "        text-align: right;\n",
       "    }\n",
       "</style>\n",
       "<table border=\"1\" class=\"dataframe\">\n",
       "  <thead>\n",
       "    <tr style=\"text-align: right;\">\n",
       "      <th></th>\n",
       "      <th>No</th>\n",
       "      <th>Cinsiyet</th>\n",
       "      <th>Yas</th>\n",
       "      <th>Hacim</th>\n",
       "      <th>Maas</th>\n",
       "      <th>label</th>\n",
       "    </tr>\n",
       "  </thead>\n",
       "  <tbody>\n",
       "    <tr>\n",
       "      <td>0</td>\n",
       "      <td>1</td>\n",
       "      <td>K</td>\n",
       "      <td>60</td>\n",
       "      <td>69900</td>\n",
       "      <td>6325</td>\n",
       "      <td>2</td>\n",
       "    </tr>\n",
       "    <tr>\n",
       "      <td>1</td>\n",
       "      <td>2</td>\n",
       "      <td>K</td>\n",
       "      <td>30</td>\n",
       "      <td>79000</td>\n",
       "      <td>5200</td>\n",
       "      <td>2</td>\n",
       "    </tr>\n",
       "    <tr>\n",
       "      <td>2</td>\n",
       "      <td>3</td>\n",
       "      <td>E</td>\n",
       "      <td>52</td>\n",
       "      <td>85500</td>\n",
       "      <td>7825</td>\n",
       "      <td>1</td>\n",
       "    </tr>\n",
       "    <tr>\n",
       "      <td>3</td>\n",
       "      <td>4</td>\n",
       "      <td>E</td>\n",
       "      <td>57</td>\n",
       "      <td>17100</td>\n",
       "      <td>8375</td>\n",
       "      <td>0</td>\n",
       "    </tr>\n",
       "    <tr>\n",
       "      <td>4</td>\n",
       "      <td>5</td>\n",
       "      <td>E</td>\n",
       "      <td>55</td>\n",
       "      <td>5500</td>\n",
       "      <td>5450</td>\n",
       "      <td>0</td>\n",
       "    </tr>\n",
       "  </tbody>\n",
       "</table>\n",
       "</div>"
      ],
      "text/plain": [
       "   No Cinsiyet  Yas  Hacim  Maas  label\n",
       "0   1        K   60  69900  6325      2\n",
       "1   2        K   30  79000  5200      2\n",
       "2   3        E   52  85500  7825      1\n",
       "3   4        E   57  17100  8375      0\n",
       "4   5        E   55   5500  5450      0"
      ]
     },
     "execution_count": 19,
     "metadata": {},
     "output_type": "execute_result"
    }
   ],
   "source": [
    "print(clusters)\n",
    "df.head()"
   ]
  },
  {
   "cell_type": "markdown",
   "metadata": {},
   "source": [
    "# Visualtization of the clusters"
   ]
  },
  {
   "cell_type": "code",
   "execution_count": 33,
   "metadata": {},
   "outputs": [
    {
     "data": {
      "image/png": "[encoded data removed]",
      "text/plain": [
       "<Figure size 720x720 with 1 Axes>"
      ]
     },
     "metadata": {
      "needs_background": "light"
     },
     "output_type": "display_data"
    }
   ],
   "source": [
    "plt.figure(figsize=(10,10))\n",
    "plt.scatter(df.Hacim[df.label == 0 ],df.Maas[df.label == 0],color = \"red\")\n",
    "plt.scatter(df.Hacim[df.label==1], df.Maas[df.label==1], color=\"green\")\n",
    "plt.scatter(df.Hacim[df.label==2], df.Maas[df.label==2], color=\"blue\")\n",
    "plt.scatter(kmeans.cluster_centers_[:,0],kmeans.cluster_centers_[:,1],color = \"black\")\n",
    "plt.show()"
   ]
  },
  {
   "cell_type": "markdown",
   "metadata": {},
   "source": [
    "# Hierarchical Clustering¶"
   ]
  },
  {
   "cell_type": "code",
   "execution_count": 36,
   "metadata": {},
   "outputs": [
    {
     "data": {
      "image/png": "[encoded data removed]",
      "text/plain": [
       "<Figure size 432x288 with 1 Axes>"
      ]
     },
     "metadata": {
      "needs_background": "light"
     },
     "output_type": "display_data"
    }
   ],
   "source": [
    "from scipy.cluster.hierarchy import linkage, dendrogram\n",
    "merg=linkage(X, method=\"ward\")\n",
    "dendrogram(merg, leaf_rotation=90)\n",
    "plt.xlabel(\"data points\")\n",
    "plt.ylabel(\"euclidean distance\")\n",
    "plt.show()"
   ]
  },
  {
   "cell_type": "code",
   "execution_count": 37,
   "metadata": {},
   "outputs": [
    {
     "name": "stdout",
     "output_type": "stream",
     "text": [
      "[0 0 0 2 2 2 2 0 2 1 1 0 1 2 0 3 0 2 0 0 2 2 0 1 3 1 2 0 2 1 2 1 1 0 1 1 1\n",
      " 2 1 3 0 2 0 2 2 1 1 1 1 3 2 0 3 3 0 0 2 0 1 0 3 0 1 2 1 2 1 0 1 2 0 0 0 0\n",
      " 2 2 3 0 1 2 2 2 1 1 3 0 0 1 2 2 0 2 3 1 2 1 2 0 2 2 1 3 0 2 2 0 0 1 1 3 3\n",
      " 0 0 0 0 1 2 0 1 1 2 1 0 0 0 1 2 2 3 2 2 1 1 1 1 2 1 1 0 1 0 2 1 1 0 1 1 1\n",
      " 1 2 1 1 0 2 1 3 2 1 3 2 1 1 2 1 2 1 1 0 2 2 0 2 2 1 1 2 2 1 3 1 1 0 1 3 0\n",
      " 3 2 2 1 2 1 2 1 0 2 0 0 1 1 1]\n"
     ]
    }
   ],
   "source": [
    "from sklearn.cluster import AgglomerativeClustering\n",
    "ac = AgglomerativeClustering(n_clusters=4, affinity='euclidean', linkage='ward')\n",
    "Y_tahmin = ac.fit_predict(X)\n",
    "print(Y_tahmin)\n"
   ]
  },
  {
   "cell_type": "code",
   "execution_count": 38,
   "metadata": {},
   "outputs": [
    {
     "data": {
      "image/png": "[encoded data removed]",
      "text/plain": [
       "<Figure size 432x288 with 1 Axes>"
      ]
     },
     "metadata": {
      "needs_background": "light"
     },
     "output_type": "display_data"
    }
   ],
   "source": [
    "plt.scatter(X[Y_tahmin==0,0],X[Y_tahmin==0,1],s=100, c='red')\n",
    "plt.scatter(X[Y_tahmin==1,0],X[Y_tahmin==1,1],s=100, c='blue')\n",
    "plt.scatter(X[Y_tahmin==2,0],X[Y_tahmin==2,1],s=100, c='green')\n",
    "plt.scatter(X[Y_tahmin==3,0],X[Y_tahmin==3,1],s=100, c='yellow')\n",
    "plt.title('HC')\n",
    "plt.show()"
   ]
  },
  {
   "cell_type": "code",
   "execution_count": null,
   "metadata": {},
   "outputs": [],
   "source": []
  }
 ],
 "metadata": {
  "kernelspec": {
   "display_name": "Python 3",
   "language": "python",
   "name": "python3"
  },
  "language_info": {
   "codemirror_mode": {
    "name": "ipython",
    "version": 3
   },
   "file_extension": ".py",
   "mimetype": "text/x-python",
   "name": "python",
   "nbconvert_exporter": "python",
   "pygments_lexer": "ipython3",
   "version": "3.7.4"
  }
 },
 "nbformat": 4,
 "nbformat_minor": 2
}
